{
 "cells": [
  {
   "cell_type": "markdown",
   "metadata": {},
   "source": [
    "# Written Exam Real Question"
   ]
  },
  {
   "cell_type": "code",
   "execution_count": 1,
   "metadata": {},
   "outputs": [],
   "source": [
    "def check_answer(answer, reference):\n",
    "    if answer != reference:\n",
    "        print(\"Failed.\")\n",
    "    else:\n",
    "        print(\"Passed.\")"
   ]
  },
  {
   "cell_type": "markdown",
   "metadata": {},
   "source": [
    "## Problem 1\n",
    "\n",
    "A robot responds to two commands, `L` or `R` , that tells it to move one step to the left (`L`) or one step to the right (`R`) on a horizontal line.\n",
    "\n",
    "You are given a string commands representing a series of `L` and `R` commands. After responding to all the commands in order, the robot will stop. Your task is to determine whether it will stop to the left or the right of its starting position:\n",
    "\n",
    "\n",
    "* If the robot will stop to the left of its starting position, return \"L\".\n",
    "* If the robot will stop at its starting position, return an empty string \"\".\n",
    "* If the robot will stop to the right of its starting position, return \"R\".\n"
   ]
  },
  {
   "cell_type": "code",
   "execution_count": null,
   "metadata": {},
   "outputs": [],
   "source": [
    "def solution(commands: str):\n",
    "    pass\n",
    "\n",
    "\n",
    "check_answer(solution(\"RLLRLL\"), \"L\")\n",
    "check_answer(solution(\"LLRLLLRRRR\"), \"\")\n",
    "check_answer(solution(\"RRLLLRRLLLRRR\"), \"R\")"
   ]
  },
  {
   "cell_type": "markdown",
   "metadata": {},
   "source": [
    "## Problem 2\n",
    "\n",
    "You are given a list of N unique numbers ranging from 0 to N - 1. Write an algorithm to replace the value of each number with its corresponding index value in the list.\n"
   ]
  },
  {
   "cell_type": "code",
   "execution_count": null,
   "metadata": {},
   "outputs": [],
   "source": [
    "def solution(arr: list):\n",
    "    pass\n",
    "\n",
    "\n",
    "check_answer(solution([3, 2, 0, 1]), [2, 3, 1, 0])"
   ]
  },
  {
   "cell_type": "markdown",
   "metadata": {},
   "source": [
    "## Problem 3\n",
    "\n",
    "John misses his bus and has to walk all the way from home to school. The distance between his school and home is D units. He starts his journey with an initial energy of K units. His energy decreases by 1 unit for every unit of distance walked. On his way to school, there are N juice stalls. Each stall has a specific amount of juice in liters. His energy increases by 1 unit for every liter of juice he consumes. Note that in order to keep him walking, he should have non-zero energy.\n",
    "\n",
    "Write an algorithm to help John figure out the minimum number of juice stalls at which he should stop to successfully reach the school. In case he can't reach the school, the output will be -1.\n",
    "\n",
    "### input\n",
    "\n",
    "* The first line of the input consists of an integer numStalls, representing the number of juice stalls ($N$).\n",
    "* The second line consists of $N$ space-separated integers $dist_0$, $dist_1$, ..., $dist_{N−1}$, representing the distance of the i-th stall from John's home.\n",
    "* The third line consists of an integer $numS$, representing the number of stalls for available juices ($M$ is always equal to $N$).\n",
    "* The fourth line consists of $M$ space-separated integers $lit_0$, $lit_1$, ..., $lit_{M-1}$, representing the liters of juice available at the i-th stall.\n",
    "* The fifth line consists of an integer distance, representing the distance of the school from John's home ($D$).\n",
    "* The last line consists of an integer $initEnergy$, representing the initial energy of John ($K$).\n",
    "\n",
    "### output\n",
    "\n",
    "* Print an integer representing the minimum number of juice stalls at which John should stop to reach the school successfully.\n",
    "\n",
    "### constraints\n",
    "\n",
    "* $1 \\le numStalls=numS \\le 10^4$ \n",
    "* $1 \\le dist_i < distance \\le 10^5$\n",
    "* $1 \\le lit_i \\le 1000$\n",
    "* $0 \\le i < N$\n",
    "* $0 \\le initEnergy \\le 10^5$\n",
    "\n",
    "### example\n",
    "\n",
    "#### input-1\n",
    "\n",
    "``` txt\n",
    "3\n",
    "5 7 10\n",
    "3\n",
    "2 3 5\n",
    "15\n",
    "5\n",
    "```\n",
    "\n",
    "#### output-1\n",
    "\n",
    "``` txt\n",
    "3\n",
    "```\n",
    "\n",
    "#### explanation-1\n",
    "\n",
    "The John's initial energy is 5 units, with which he can reach the first juice stalls. At this point, his energy is 0. He can get 2 liters of juice to get 2 units of energy. With this 2 units of energy, he can move to the second juice stalls. Now his energy becomes 0. He gets 3 liters of juice from this stall. With 3 units of energy, he can reach the third stalls. Here his energy is zero. He can get 5 units of energy from this stall. This energy is enough to reach the school. So, John has to stop at 3 stalls.\n"
   ]
  },
  {
   "cell_type": "code",
   "execution_count": null,
   "metadata": {},
   "outputs": [],
   "source": [
    "def solution(dist: list[int], lit: list[int], distance: int, initEnergy: int):\n",
    "    pass\n",
    "\n",
    "\n",
    "check_answer(solution([5, 7, 10], [2, 3, 5], 15, 5), 3)\n",
    "check_answer(solution([10, 20, 22, 23, 26], [10, 2, 5, 1, 1], 30, 10), -1)"
   ]
  },
  {
   "cell_type": "markdown",
   "metadata": {},
   "source": [
    "## Problem 4\n",
    "\n",
    "Martin’s father goes for a jog every morning. Martin follows him several minutes later. His father starts at a position that is X1 meters away from their home and continues at a constant speed of V1 meters per step for N steps.\n",
    "\n",
    "Martin is standing at X2 meters away from his home. He wonders how fast he must run at some constant speed to reach his father’s footsteps in N steps, so that he maximizes F, where F equals the number of his father’s footsteps that Martin will land on during his run. It is given that the first step that Martin will land on, from his starting position, will have been landed on by his father.\n",
    "\n",
    "Note that if more than one prospective velocity results in the same number of maximum common steps, output the highest prospective velocity as V2.\n",
    "\n",
    "Write an algorithm to help Martin calculate F and V2.\n",
    "\n",
    "### Input\n",
    "\n",
    "- The first line of the input consists of an integer `fatherPos`, representing the initial position of Martin’s father (X1).\n",
    "- The second line consists of an integer `martinPos`, representing the initial position of Martin (X2).\n",
    "- The third line consists of an integer `velFather`, representing the velocity of the father (V1).\n",
    "- The last line consists of an integer `steps`, representing the number of steps taken by the father (N).\n",
    "\n",
    "### Output\n",
    "- Print two space-separated integers as the maximum number of common footsteps F and the respective speed V2.\n",
    "\n",
    "### Constraints\n",
    "- $1 \\le fatherPos \\le 10^5$\n",
    "- $0 \\le martinPos \\le fatherPos$\n",
    "- $1 \\le velFather \\le 10^4$\n",
    "- $1 \\le steps \\le 10^4$\n",
    "\n",
    "### Example\n",
    "\n",
    "#### Input-1\n",
    "\n",
    "``` txt\n",
    "3\n",
    "2\n",
    "2\n",
    "20\n",
    "```\n",
    "\n",
    "#### Outpu-1\n",
    "\n",
    "``` txt\n",
    "21 11\n",
    "```\n",
    "\n",
    "#### Explanation-1\n",
    "\n",
    "Martin can have a maximum of 21 common footsteps with a velocity of 1 meter per step."
   ]
  },
  {
   "cell_type": "code",
   "execution_count": null,
   "metadata": {},
   "outputs": [],
   "source": [
    "def solution(father_pos: int, martin_pos: int, vel_father: int, steps: int):\n",
    "    pass\n",
    "\n",
    "\n",
    "check_answer(solution([3, 2, 2, 20]), [21, 11])\n",
    "check_answer(solution([1, 0, 1, 2]), [3, 1])\n",
    "check_answer(solution([13, 5, 9, 4]), [1, 44])"
   ]
  }
 ],
 "metadata": {
  "kernelspec": {
   "display_name": "Python 3",
   "language": "python",
   "name": "python3"
  },
  "language_info": {
   "codemirror_mode": {
    "name": "ipython",
    "version": 3
   },
   "file_extension": ".py",
   "mimetype": "text/x-python",
   "name": "python",
   "nbconvert_exporter": "python",
   "pygments_lexer": "ipython3",
   "version": "3.10.7"
  }
 },
 "nbformat": 4,
 "nbformat_minor": 2
}
